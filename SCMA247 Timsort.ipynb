{
 "cells": [
  {
   "cell_type": "markdown",
   "id": "58a67a50",
   "metadata": {},
   "source": [
    "# Insertion sort function"
   ]
  },
  {
   "cell_type": "code",
   "execution_count": 21,
   "id": "719cdad0",
   "metadata": {},
   "outputs": [],
   "source": [
    "def InsertionSort(array):\n",
    "\n",
    "    for x in range (1, len(array)):\n",
    "        for i in range(x, 0, -1):\n",
    "            if array[i] < array[i - 1]:\n",
    "                t = array[i]\n",
    "                array[i] = array[i - 1]\n",
    "                array[i - 1] = t\n",
    "            else:\n",
    "                break\n",
    "            i = i - 1\n",
    "    return array"
   ]
  },
  {
   "cell_type": "code",
   "execution_count": 22,
   "id": "b2b73ee7",
   "metadata": {},
   "outputs": [
    {
     "data": {
      "text/plain": [
       "([1, 3, 8, 10, 23, 30, 35, 40, 50, 52, 55],\n",
       " [1, 3, 8, 10, 23, 30, 35, 40, 50, 52, 55])"
      ]
     },
     "execution_count": 22,
     "metadata": {},
     "output_type": "execute_result"
    }
   ],
   "source": [
    "arr = [3,30,23,35,8,10,40,55,50,52,1]\n",
    "arr, InsertionSort(arr)"
   ]
  },
  {
   "cell_type": "markdown",
   "id": "04ebb7ec",
   "metadata": {},
   "source": [
    "--------"
   ]
  },
  {
   "cell_type": "markdown",
   "id": "74e94473",
   "metadata": {},
   "source": [
    "# Merge function"
   ]
  },
  {
   "cell_type": "code",
   "execution_count": 23,
   "id": "06d3be1d",
   "metadata": {},
   "outputs": [],
   "source": [
    "def Merge(aArr, bArr):\n",
    "    \n",
    "    a = 0\n",
    "    b = 0\n",
    "    cArr = []\n",
    "\n",
    "    while a < len(aArr) and b < len(bArr):\n",
    "        if aArr[a] < bArr[b]:\n",
    "            cArr.append(aArr[a])\n",
    "            a = a + 1\n",
    "        elif aArr[a] > bArr[b]:\n",
    "            cArr.append(bArr[b])\n",
    "            b = b + 1\n",
    "        else:\n",
    "            cArr.append(aArr[a])\n",
    "            cArr.append(bArr[b])\n",
    "            a = a + 1\n",
    "            b = b + 1\n",
    "\n",
    "    while a < len(aArr):\n",
    "        cArr.append(aArr[a])\n",
    "        a = a + 1\n",
    "\n",
    "    while b < len(bArr):\n",
    "        cArr.append(bArr[b])\n",
    "        b = b + 1\n",
    "\n",
    "    return cArr"
   ]
  },
  {
   "cell_type": "code",
   "execution_count": 24,
   "id": "4551e0fa",
   "metadata": {},
   "outputs": [
    {
     "data": {
      "text/plain": [
       "([1, 2, 4, 5, 7, 8],\n",
       " [1, 2, 3, 4, 5, 6, 7, 8, 9],\n",
       " [1, 2, 3, 4, 5, 6, 7, 8, 9, 10, 13, 16])"
      ]
     },
     "execution_count": 24,
     "metadata": {},
     "output_type": "execute_result"
    }
   ],
   "source": [
    "aArr=[1,4,7]\n",
    "bArr=[2,5,8]\n",
    "cArr=[3,6,9]\n",
    "dArr=[10,13,16]\n",
    "\n",
    "Merge(aArr,bArr), Merge(Merge(aArr,bArr),cArr), Merge(Merge(Merge(aArr,bArr),cArr),dArr)"
   ]
  },
  {
   "cell_type": "markdown",
   "id": "4ddf9d17",
   "metadata": {},
   "source": [
    "--------"
   ]
  },
  {
   "cell_type": "markdown",
   "id": "e3ac0a86",
   "metadata": {},
   "source": [
    "# Problem maker function"
   ]
  },
  {
   "cell_type": "code",
   "execution_count": 25,
   "id": "4f22a0d8",
   "metadata": {},
   "outputs": [],
   "source": [
    "import random"
   ]
  },
  {
   "cell_type": "code",
   "execution_count": 26,
   "id": "9e35b52b",
   "metadata": {},
   "outputs": [],
   "source": [
    "def make_sample():\n",
    "    arr = []\n",
    "    RUN = 32\n",
    "    for x in range(0, 75):\n",
    "        arr.append(random.randint(0, 100))\n",
    "    arr = list(dict.fromkeys(arr)) # no dup option\n",
    "#     print(arr)\n",
    "#     print(len(arr))\n",
    "    return(arr)"
   ]
  },
  {
   "cell_type": "code",
   "execution_count": 27,
   "id": "2fb4f4e8",
   "metadata": {},
   "outputs": [],
   "source": [
    "def checkIfDuplicates_1(listOfElems):\n",
    "    if len(listOfElems) == len(set(listOfElems)):\n",
    "        return \"NO dup\"\n",
    "    else:\n",
    "        return \"DUP\""
   ]
  },
  {
   "cell_type": "code",
   "execution_count": 40,
   "id": "9415ea22",
   "metadata": {
    "scrolled": false
   },
   "outputs": [
    {
     "name": "stdout",
     "output_type": "stream",
     "text": [
      "52\n",
      "[7, 36, 43, 70, 1, 99, 19, 79, 20, 46, 83, 77, 84, 61, 47, 97, 53, 85, 35, 94, 90, 96, 68, 4, 34, 93, 60, 33, 45, 14, 92, 67, 3, 30, 51, 44, 55, 64, 15, 75, 54, 76, 41, 63, 48, 89, 32, 58, 31, 59, 6, 91]\n"
     ]
    }
   ],
   "source": [
    "arr = make_sample()\n",
    "print(len(arr))\n",
    "# print(checkIfDuplicates_1(arr),'\\n')\n",
    "print(arr)\n",
    "# print(TimSortWExp(arr,RUN))"
   ]
  },
  {
   "cell_type": "markdown",
   "id": "6e1ff745",
   "metadata": {},
   "source": [
    "--------"
   ]
  },
  {
   "cell_type": "markdown",
   "id": "a47dc7ac",
   "metadata": {},
   "source": [
    "# Timsort"
   ]
  },
  {
   "cell_type": "code",
   "execution_count": 29,
   "id": "bcd3253e",
   "metadata": {},
   "outputs": [],
   "source": [
    "def TimSort(arr,run):\n",
    "    RUN = run\n",
    "    \n",
    "    for x in range(0, len(arr), RUN):\n",
    "        arr[x : x + RUN] = InsertionSort(arr[x : x + RUN])\n",
    "    \n",
    "    RUNinc = RUN\n",
    "    \n",
    "    while RUNinc < len(arr):\n",
    "        for x in range(0, len(arr), 2 * RUNinc):\n",
    "            arr[x : x + 2 * RUNinc] = Merge(arr[x : x + RUNinc], arr[x + RUNinc: x + 2 * RUNinc])\n",
    "        RUNinc = RUNinc * 2\n",
    "    \n",
    "    return arr"
   ]
  },
  {
   "cell_type": "markdown",
   "id": "aae39b19",
   "metadata": {},
   "source": [
    "## Test Timsort"
   ]
  },
  {
   "cell_type": "code",
   "execution_count": 30,
   "id": "5acdde01",
   "metadata": {},
   "outputs": [
    {
     "name": "stdout",
     "output_type": "stream",
     "text": [
      "[3, 8, 10, 23, 30, 35, 40, 50, 52, 55]\n"
     ]
    }
   ],
   "source": [
    "arr = [3,30,23,35,8,10,40,55,50,52]\n",
    "RUN = 5\n",
    "print(TimSort(arr,RUN))"
   ]
  },
  {
   "cell_type": "code",
   "execution_count": 31,
   "id": "898e68ef",
   "metadata": {},
   "outputs": [
    {
     "name": "stdout",
     "output_type": "stream",
     "text": [
      "0 3\n",
      "5 74\n",
      "10 10\n",
      "15 79\n"
     ]
    }
   ],
   "source": [
    "# select index step=RUN\n",
    "arr = [3,30,23,35,8,10,40,55,50,52]\n",
    "arr = [3,73,30,70,55,74,52,8,78,71,10,40,72,50,76,79,23,35,77,75]\n",
    "for x in range(0, len(arr), RUN):\n",
    "    print(x,arr[x])"
   ]
  },
  {
   "cell_type": "markdown",
   "id": "bbb4f238",
   "metadata": {},
   "source": [
    "## Timsort w/ explain"
   ]
  },
  {
   "cell_type": "code",
   "execution_count": 32,
   "id": "a9b22a55",
   "metadata": {},
   "outputs": [],
   "source": [
    "# replace (elt from x to RUN) by\n",
    "# (elt that sorted from InsertionSort)\n",
    "\n",
    "def TimSortWExp(arr,run):\n",
    "    for x in range(0, len(arr), RUN):\n",
    "        print(arr[x : x+RUN],'    before insertion sort')\n",
    "        print(InsertionSort(arr[x : x+RUN]),'    after insertion sort')\n",
    "        arr[x : x+RUN] = InsertionSort(arr[x : x+RUN])\n",
    "        print('- - - - - - - ')\n",
    "\n",
    "    print(' * * * * * * * * * * * MERGE START * * * * * * * * * * * \\n')\n",
    "\n",
    "    # merge pair of array recursively\n",
    "    RUNinc = RUN # don't want to change RUN\n",
    "    while RUNinc < len(arr): # stop when RUNinc = size of array. since it means it's already 1 entire array\n",
    "\n",
    "        for x in range(0, len(arr), 2 * RUNinc):\n",
    "            print(\"run =\",RUNinc)\n",
    "            print(arr[x : x + 2 * RUNinc],'     whole (elt from x to x+2RUN)')\n",
    "            print(arr[x : x + RUNinc],arr[x + RUNinc: x + 2 * RUNinc],'    1st and 2nd half of the whole')\n",
    "            print(Merge(arr[x : x + RUNinc], arr[x + RUNinc: x + 2 * RUNinc]),'     result of merge(1st,2nd)')\n",
    "            print(' - - - - - - - - - - - - - - - - - - - ')\n",
    "\n",
    "            # so this means we replace whole by (result of merge(1st,2nd))\n",
    "            arr[x : x + 2 * RUNinc] = Merge(arr[x : x + RUNinc], arr[x + RUNinc: x + 2 * RUNinc])\n",
    "\n",
    "        RUNinc = RUNinc * 2 # increase for next bigger pair\n",
    "        print('RUNinc =',RUNinc,'len =',len(arr))\n",
    "    \n",
    "    print(\"\\n - - - - END HERE - - - - \\n\")\n",
    "    return arr"
   ]
  },
  {
   "cell_type": "code",
   "execution_count": 33,
   "id": "cc9b3495",
   "metadata": {
    "scrolled": false
   },
   "outputs": [
    {
     "name": "stdout",
     "output_type": "stream",
     "text": [
      "[3, 30, 23, 35, 8]     before insertion sort\n",
      "[3, 8, 23, 30, 35]     after insertion sort\n",
      "- - - - - - - \n",
      "[10, 40, 55, 50, 52]     before insertion sort\n",
      "[10, 40, 50, 52, 55]     after insertion sort\n",
      "- - - - - - - \n",
      " * * * * * * * * * * * MERGE START * * * * * * * * * * * \n",
      "\n",
      "run = 5\n",
      "[3, 8, 23, 30, 35, 10, 40, 50, 52, 55]      whole (elt from x to x+2RUN)\n",
      "[3, 8, 23, 30, 35] [10, 40, 50, 52, 55]     1st and 2nd half of the whole\n",
      "[3, 8, 10, 23, 30, 35, 40, 50, 52, 55]      result of merge(1st,2nd)\n",
      " - - - - - - - - - - - - - - - - - - - \n",
      "RUNinc = 10 len = 10\n",
      "\n",
      " - - - - END HERE - - - - \n",
      "\n"
     ]
    },
    {
     "data": {
      "text/plain": [
       "[3, 8, 10, 23, 30, 35, 40, 50, 52, 55]"
      ]
     },
     "execution_count": 33,
     "metadata": {},
     "output_type": "execute_result"
    }
   ],
   "source": [
    "TimSortWExp([3,30,23,35,8,10,40,55,50,52],5)"
   ]
  },
  {
   "cell_type": "markdown",
   "id": "b8080306",
   "metadata": {},
   "source": [
    "## 31 elt"
   ]
  },
  {
   "cell_type": "code",
   "execution_count": 34,
   "id": "87cc96ec",
   "metadata": {
    "scrolled": false
   },
   "outputs": [
    {
     "name": "stdout",
     "output_type": "stream",
     "text": [
      "[28, 21, 13, 6, 16]     before insertion sort\n",
      "[6, 13, 16, 21, 28]     after insertion sort\n",
      "- - - - - - - \n",
      "[26, 15, 12, 47, 22]     before insertion sort\n",
      "[12, 15, 22, 26, 47]     after insertion sort\n",
      "- - - - - - - \n",
      "[29, 31, 43, 19, 48]     before insertion sort\n",
      "[19, 29, 31, 43, 48]     after insertion sort\n",
      "- - - - - - - \n",
      "[41, 10, 35, 32, 27]     before insertion sort\n",
      "[10, 27, 32, 35, 41]     after insertion sort\n",
      "- - - - - - - \n",
      "[50]     before insertion sort\n",
      "[50]     after insertion sort\n",
      "- - - - - - - \n",
      " * * * * * * * * * * * MERGE START * * * * * * * * * * * \n",
      "\n",
      "run = 5\n",
      "[6, 13, 16, 21, 28, 12, 15, 22, 26, 47]      whole (elt from x to x+2RUN)\n",
      "[6, 13, 16, 21, 28] [12, 15, 22, 26, 47]     1st and 2nd half of the whole\n",
      "[6, 12, 13, 15, 16, 21, 22, 26, 28, 47]      result of merge(1st,2nd)\n",
      " - - - - - - - - - - - - - - - - - - - \n",
      "run = 5\n",
      "[19, 29, 31, 43, 48, 10, 27, 32, 35, 41]      whole (elt from x to x+2RUN)\n",
      "[19, 29, 31, 43, 48] [10, 27, 32, 35, 41]     1st and 2nd half of the whole\n",
      "[10, 19, 27, 29, 31, 32, 35, 41, 43, 48]      result of merge(1st,2nd)\n",
      " - - - - - - - - - - - - - - - - - - - \n",
      "run = 5\n",
      "[50]      whole (elt from x to x+2RUN)\n",
      "[50] []     1st and 2nd half of the whole\n",
      "[50]      result of merge(1st,2nd)\n",
      " - - - - - - - - - - - - - - - - - - - \n",
      "RUNinc = 10 len = 21\n",
      "run = 10\n",
      "[6, 12, 13, 15, 16, 21, 22, 26, 28, 47, 10, 19, 27, 29, 31, 32, 35, 41, 43, 48]      whole (elt from x to x+2RUN)\n",
      "[6, 12, 13, 15, 16, 21, 22, 26, 28, 47] [10, 19, 27, 29, 31, 32, 35, 41, 43, 48]     1st and 2nd half of the whole\n",
      "[6, 10, 12, 13, 15, 16, 19, 21, 22, 26, 27, 28, 29, 31, 32, 35, 41, 43, 47, 48]      result of merge(1st,2nd)\n",
      " - - - - - - - - - - - - - - - - - - - \n",
      "run = 10\n",
      "[50]      whole (elt from x to x+2RUN)\n",
      "[50] []     1st and 2nd half of the whole\n",
      "[50]      result of merge(1st,2nd)\n",
      " - - - - - - - - - - - - - - - - - - - \n",
      "RUNinc = 20 len = 21\n",
      "run = 20\n",
      "[6, 10, 12, 13, 15, 16, 19, 21, 22, 26, 27, 28, 29, 31, 32, 35, 41, 43, 47, 48, 50]      whole (elt from x to x+2RUN)\n",
      "[6, 10, 12, 13, 15, 16, 19, 21, 22, 26, 27, 28, 29, 31, 32, 35, 41, 43, 47, 48] [50]     1st and 2nd half of the whole\n",
      "[6, 10, 12, 13, 15, 16, 19, 21, 22, 26, 27, 28, 29, 31, 32, 35, 41, 43, 47, 48, 50]      result of merge(1st,2nd)\n",
      " - - - - - - - - - - - - - - - - - - - \n",
      "RUNinc = 40 len = 21\n",
      "\n",
      " - - - - END HERE - - - - \n",
      "\n",
      "[6, 10, 12, 13, 15, 16, 19, 21, 22, 26, 27, 28, 29, 31, 32, 35, 41, 43, 47, 48, 50]\n"
     ]
    }
   ],
   "source": [
    "elt21 = [28, 21, 13, 6, 16, 26, 15, 12, 47, 22, 29, 31, 43, 19, 48, 41, 10, 35, 32, 27, 50]\n",
    "print(TimSortWExp(elt21,5))"
   ]
  },
  {
   "cell_type": "markdown",
   "id": "63d8148a",
   "metadata": {},
   "source": [
    "## 34 elt"
   ]
  },
  {
   "cell_type": "code",
   "execution_count": 35,
   "id": "9f740163",
   "metadata": {
    "scrolled": false
   },
   "outputs": [
    {
     "name": "stdout",
     "output_type": "stream",
     "text": [
      "[2, 35, 26, 47, 18]     before insertion sort\n",
      "[2, 18, 26, 35, 47]     after insertion sort\n",
      "- - - - - - - \n",
      "[31, 33, 10, 16, 24]     before insertion sort\n",
      "[10, 16, 24, 31, 33]     after insertion sort\n",
      "- - - - - - - \n",
      "[23, 38, 12, 1, 21]     before insertion sort\n",
      "[1, 12, 21, 23, 38]     after insertion sort\n",
      "- - - - - - - \n",
      "[27, 30, 44, 46, 34]     before insertion sort\n",
      "[27, 30, 34, 44, 46]     after insertion sort\n",
      "- - - - - - - \n",
      "[28, 13, 50, 0, 9]     before insertion sort\n",
      "[0, 9, 13, 28, 50]     after insertion sort\n",
      "- - - - - - - \n",
      "[17, 5, 29, 45]     before insertion sort\n",
      "[5, 17, 29, 45]     after insertion sort\n",
      "- - - - - - - \n",
      " * * * * * * * * * * * MERGE START * * * * * * * * * * * \n",
      "\n",
      "run = 5\n",
      "[2, 18, 26, 35, 47, 10, 16, 24, 31, 33]      whole (elt from x to x+2RUN)\n",
      "[2, 18, 26, 35, 47] [10, 16, 24, 31, 33]     1st and 2nd half of the whole\n",
      "[2, 10, 16, 18, 24, 26, 31, 33, 35, 47]      result of merge(1st,2nd)\n",
      " - - - - - - - - - - - - - - - - - - - \n",
      "run = 5\n",
      "[1, 12, 21, 23, 38, 27, 30, 34, 44, 46]      whole (elt from x to x+2RUN)\n",
      "[1, 12, 21, 23, 38] [27, 30, 34, 44, 46]     1st and 2nd half of the whole\n",
      "[1, 12, 21, 23, 27, 30, 34, 38, 44, 46]      result of merge(1st,2nd)\n",
      " - - - - - - - - - - - - - - - - - - - \n",
      "run = 5\n",
      "[0, 9, 13, 28, 50, 5, 17, 29, 45]      whole (elt from x to x+2RUN)\n",
      "[0, 9, 13, 28, 50] [5, 17, 29, 45]     1st and 2nd half of the whole\n",
      "[0, 5, 9, 13, 17, 28, 29, 45, 50]      result of merge(1st,2nd)\n",
      " - - - - - - - - - - - - - - - - - - - \n",
      "RUNinc = 10 len = 29\n",
      "run = 10\n",
      "[2, 10, 16, 18, 24, 26, 31, 33, 35, 47, 1, 12, 21, 23, 27, 30, 34, 38, 44, 46]      whole (elt from x to x+2RUN)\n",
      "[2, 10, 16, 18, 24, 26, 31, 33, 35, 47] [1, 12, 21, 23, 27, 30, 34, 38, 44, 46]     1st and 2nd half of the whole\n",
      "[1, 2, 10, 12, 16, 18, 21, 23, 24, 26, 27, 30, 31, 33, 34, 35, 38, 44, 46, 47]      result of merge(1st,2nd)\n",
      " - - - - - - - - - - - - - - - - - - - \n",
      "run = 10\n",
      "[0, 5, 9, 13, 17, 28, 29, 45, 50]      whole (elt from x to x+2RUN)\n",
      "[0, 5, 9, 13, 17, 28, 29, 45, 50] []     1st and 2nd half of the whole\n",
      "[0, 5, 9, 13, 17, 28, 29, 45, 50]      result of merge(1st,2nd)\n",
      " - - - - - - - - - - - - - - - - - - - \n",
      "RUNinc = 20 len = 29\n",
      "run = 20\n",
      "[1, 2, 10, 12, 16, 18, 21, 23, 24, 26, 27, 30, 31, 33, 34, 35, 38, 44, 46, 47, 0, 5, 9, 13, 17, 28, 29, 45, 50]      whole (elt from x to x+2RUN)\n",
      "[1, 2, 10, 12, 16, 18, 21, 23, 24, 26, 27, 30, 31, 33, 34, 35, 38, 44, 46, 47] [0, 5, 9, 13, 17, 28, 29, 45, 50]     1st and 2nd half of the whole\n",
      "[0, 1, 2, 5, 9, 10, 12, 13, 16, 17, 18, 21, 23, 24, 26, 27, 28, 29, 30, 31, 33, 34, 35, 38, 44, 45, 46, 47, 50]      result of merge(1st,2nd)\n",
      " - - - - - - - - - - - - - - - - - - - \n",
      "RUNinc = 40 len = 29\n",
      "\n",
      " - - - - END HERE - - - - \n",
      "\n",
      "[0, 1, 2, 5, 9, 10, 12, 13, 16, 17, 18, 21, 23, 24, 26, 27, 28, 29, 30, 31, 33, 34, 35, 38, 44, 45, 46, 47, 50]\n"
     ]
    }
   ],
   "source": [
    "# 29 elt example\n",
    "elt29 = [2, 35, 26, 47, 18, 31, 33, 10, 16, 24, 23, 38, 12, 1, 21, 27, 30, 44, 46, 34, 28, 13, 50, 0, 9, 17, 5, 29, 45]\n",
    "print(TimSortWExp(elt29,5))"
   ]
  },
  {
   "cell_type": "markdown",
   "id": "8bc58091",
   "metadata": {},
   "source": [
    "## 52 elt"
   ]
  },
  {
   "cell_type": "code",
   "execution_count": 36,
   "id": "f025e0e1",
   "metadata": {
    "scrolled": false
   },
   "outputs": [
    {
     "name": "stdout",
     "output_type": "stream",
     "text": [
      "[74, 88, 52, 51, 15]     before insertion sort\n",
      "[15, 51, 52, 74, 88]     after insertion sort\n",
      "- - - - - - - \n",
      "[17, 8, 80, 1, 23]     before insertion sort\n",
      "[1, 8, 17, 23, 80]     after insertion sort\n",
      "- - - - - - - \n",
      "[33, 49, 81, 69, 37]     before insertion sort\n",
      "[33, 37, 49, 69, 81]     after insertion sort\n",
      "- - - - - - - \n",
      "[42, 10, 72, 11, 57]     before insertion sort\n",
      "[10, 11, 42, 57, 72]     after insertion sort\n",
      "- - - - - - - \n",
      "[71, 79, 34, 22, 25]     before insertion sort\n",
      "[22, 25, 34, 71, 79]     after insertion sort\n",
      "- - - - - - - \n",
      "[83, 27, 29, 58, 36]     before insertion sort\n",
      "[27, 29, 36, 58, 83]     after insertion sort\n",
      "- - - - - - - \n",
      "[47, 53, 14, 82, 55]     before insertion sort\n",
      "[14, 47, 53, 55, 82]     after insertion sort\n",
      "- - - - - - - \n",
      "[65, 48, 28, 26, 7]     before insertion sort\n",
      "[7, 26, 28, 48, 65]     after insertion sort\n",
      "- - - - - - - \n",
      "[31, 67, 60, 3, 62]     before insertion sort\n",
      "[3, 31, 60, 62, 67]     after insertion sort\n",
      "- - - - - - - \n",
      "[12, 20, 94, 97, 77]     before insertion sort\n",
      "[12, 20, 77, 94, 97]     after insertion sort\n",
      "- - - - - - - \n",
      "[50, 30]     before insertion sort\n",
      "[30, 50]     after insertion sort\n",
      "- - - - - - - \n",
      " * * * * * * * * * * * MERGE START * * * * * * * * * * * \n",
      "\n",
      "run = 5\n",
      "[15, 51, 52, 74, 88, 1, 8, 17, 23, 80]      whole (elt from x to x+2RUN)\n",
      "[15, 51, 52, 74, 88] [1, 8, 17, 23, 80]     1st and 2nd half of the whole\n",
      "[1, 8, 15, 17, 23, 51, 52, 74, 80, 88]      result of merge(1st,2nd)\n",
      " - - - - - - - - - - - - - - - - - - - \n",
      "run = 5\n",
      "[33, 37, 49, 69, 81, 10, 11, 42, 57, 72]      whole (elt from x to x+2RUN)\n",
      "[33, 37, 49, 69, 81] [10, 11, 42, 57, 72]     1st and 2nd half of the whole\n",
      "[10, 11, 33, 37, 42, 49, 57, 69, 72, 81]      result of merge(1st,2nd)\n",
      " - - - - - - - - - - - - - - - - - - - \n",
      "run = 5\n",
      "[22, 25, 34, 71, 79, 27, 29, 36, 58, 83]      whole (elt from x to x+2RUN)\n",
      "[22, 25, 34, 71, 79] [27, 29, 36, 58, 83]     1st and 2nd half of the whole\n",
      "[22, 25, 27, 29, 34, 36, 58, 71, 79, 83]      result of merge(1st,2nd)\n",
      " - - - - - - - - - - - - - - - - - - - \n",
      "run = 5\n",
      "[14, 47, 53, 55, 82, 7, 26, 28, 48, 65]      whole (elt from x to x+2RUN)\n",
      "[14, 47, 53, 55, 82] [7, 26, 28, 48, 65]     1st and 2nd half of the whole\n",
      "[7, 14, 26, 28, 47, 48, 53, 55, 65, 82]      result of merge(1st,2nd)\n",
      " - - - - - - - - - - - - - - - - - - - \n",
      "run = 5\n",
      "[3, 31, 60, 62, 67, 12, 20, 77, 94, 97]      whole (elt from x to x+2RUN)\n",
      "[3, 31, 60, 62, 67] [12, 20, 77, 94, 97]     1st and 2nd half of the whole\n",
      "[3, 12, 20, 31, 60, 62, 67, 77, 94, 97]      result of merge(1st,2nd)\n",
      " - - - - - - - - - - - - - - - - - - - \n",
      "run = 5\n",
      "[30, 50]      whole (elt from x to x+2RUN)\n",
      "[30, 50] []     1st and 2nd half of the whole\n",
      "[30, 50]      result of merge(1st,2nd)\n",
      " - - - - - - - - - - - - - - - - - - - \n",
      "RUNinc = 10 len = 52\n",
      "run = 10\n",
      "[1, 8, 15, 17, 23, 51, 52, 74, 80, 88, 10, 11, 33, 37, 42, 49, 57, 69, 72, 81]      whole (elt from x to x+2RUN)\n",
      "[1, 8, 15, 17, 23, 51, 52, 74, 80, 88] [10, 11, 33, 37, 42, 49, 57, 69, 72, 81]     1st and 2nd half of the whole\n",
      "[1, 8, 10, 11, 15, 17, 23, 33, 37, 42, 49, 51, 52, 57, 69, 72, 74, 80, 81, 88]      result of merge(1st,2nd)\n",
      " - - - - - - - - - - - - - - - - - - - \n",
      "run = 10\n",
      "[22, 25, 27, 29, 34, 36, 58, 71, 79, 83, 7, 14, 26, 28, 47, 48, 53, 55, 65, 82]      whole (elt from x to x+2RUN)\n",
      "[22, 25, 27, 29, 34, 36, 58, 71, 79, 83] [7, 14, 26, 28, 47, 48, 53, 55, 65, 82]     1st and 2nd half of the whole\n",
      "[7, 14, 22, 25, 26, 27, 28, 29, 34, 36, 47, 48, 53, 55, 58, 65, 71, 79, 82, 83]      result of merge(1st,2nd)\n",
      " - - - - - - - - - - - - - - - - - - - \n",
      "run = 10\n",
      "[3, 12, 20, 31, 60, 62, 67, 77, 94, 97, 30, 50]      whole (elt from x to x+2RUN)\n",
      "[3, 12, 20, 31, 60, 62, 67, 77, 94, 97] [30, 50]     1st and 2nd half of the whole\n",
      "[3, 12, 20, 30, 31, 50, 60, 62, 67, 77, 94, 97]      result of merge(1st,2nd)\n",
      " - - - - - - - - - - - - - - - - - - - \n",
      "RUNinc = 20 len = 52\n",
      "run = 20\n",
      "[1, 8, 10, 11, 15, 17, 23, 33, 37, 42, 49, 51, 52, 57, 69, 72, 74, 80, 81, 88, 7, 14, 22, 25, 26, 27, 28, 29, 34, 36, 47, 48, 53, 55, 58, 65, 71, 79, 82, 83]      whole (elt from x to x+2RUN)\n",
      "[1, 8, 10, 11, 15, 17, 23, 33, 37, 42, 49, 51, 52, 57, 69, 72, 74, 80, 81, 88] [7, 14, 22, 25, 26, 27, 28, 29, 34, 36, 47, 48, 53, 55, 58, 65, 71, 79, 82, 83]     1st and 2nd half of the whole\n",
      "[1, 7, 8, 10, 11, 14, 15, 17, 22, 23, 25, 26, 27, 28, 29, 33, 34, 36, 37, 42, 47, 48, 49, 51, 52, 53, 55, 57, 58, 65, 69, 71, 72, 74, 79, 80, 81, 82, 83, 88]      result of merge(1st,2nd)\n",
      " - - - - - - - - - - - - - - - - - - - \n",
      "run = 20\n",
      "[3, 12, 20, 30, 31, 50, 60, 62, 67, 77, 94, 97]      whole (elt from x to x+2RUN)\n",
      "[3, 12, 20, 30, 31, 50, 60, 62, 67, 77, 94, 97] []     1st and 2nd half of the whole\n",
      "[3, 12, 20, 30, 31, 50, 60, 62, 67, 77, 94, 97]      result of merge(1st,2nd)\n",
      " - - - - - - - - - - - - - - - - - - - \n",
      "RUNinc = 40 len = 52\n",
      "run = 40\n",
      "[1, 7, 8, 10, 11, 14, 15, 17, 22, 23, 25, 26, 27, 28, 29, 33, 34, 36, 37, 42, 47, 48, 49, 51, 52, 53, 55, 57, 58, 65, 69, 71, 72, 74, 79, 80, 81, 82, 83, 88, 3, 12, 20, 30, 31, 50, 60, 62, 67, 77, 94, 97]      whole (elt from x to x+2RUN)\n",
      "[1, 7, 8, 10, 11, 14, 15, 17, 22, 23, 25, 26, 27, 28, 29, 33, 34, 36, 37, 42, 47, 48, 49, 51, 52, 53, 55, 57, 58, 65, 69, 71, 72, 74, 79, 80, 81, 82, 83, 88] [3, 12, 20, 30, 31, 50, 60, 62, 67, 77, 94, 97]     1st and 2nd half of the whole\n",
      "[1, 3, 7, 8, 10, 11, 12, 14, 15, 17, 20, 22, 23, 25, 26, 27, 28, 29, 30, 31, 33, 34, 36, 37, 42, 47, 48, 49, 50, 51, 52, 53, 55, 57, 58, 60, 62, 65, 67, 69, 71, 72, 74, 77, 79, 80, 81, 82, 83, 88, 94, 97]      result of merge(1st,2nd)\n",
      " - - - - - - - - - - - - - - - - - - - \n",
      "RUNinc = 80 len = 52\n",
      "\n",
      " - - - - END HERE - - - - \n",
      "\n",
      "[1, 3, 7, 8, 10, 11, 12, 14, 15, 17, 20, 22, 23, 25, 26, 27, 28, 29, 30, 31, 33, 34, 36, 37, 42, 47, 48, 49, 50, 51, 52, 53, 55, 57, 58, 60, 62, 65, 67, 69, 71, 72, 74, 77, 79, 80, 81, 82, 83, 88, 94, 97]\n"
     ]
    }
   ],
   "source": [
    "elt52 = [74, 88, 52, 51, 15, 17, 8, 80, 1, 23, 33, 49, 81, 69, 37, 42, 10, 72, 11, 57, 71, 79, 34, 22, 25, 83, 27, 29, 58, 36, 47, 53, 14, 82, 55, 65, 48, 28, 26, 7, 31, 67, 60, 3, 62, 12, 20, 94, 97, 77, 50, 30]\n",
    "print(TimSortWExp(elt52,5))"
   ]
  },
  {
   "cell_type": "markdown",
   "id": "7d27d357",
   "metadata": {},
   "source": [
    "----"
   ]
  }
 ],
 "metadata": {
  "kernelspec": {
   "display_name": "Python 3 (ipykernel)",
   "language": "python",
   "name": "python3"
  },
  "language_info": {
   "codemirror_mode": {
    "name": "ipython",
    "version": 3
   },
   "file_extension": ".py",
   "mimetype": "text/x-python",
   "name": "python",
   "nbconvert_exporter": "python",
   "pygments_lexer": "ipython3",
   "version": "3.9.7"
  },
  "toc": {
   "base_numbering": 1,
   "nav_menu": {},
   "number_sections": true,
   "sideBar": true,
   "skip_h1_title": false,
   "title_cell": "Table of Contents",
   "title_sidebar": "Contents",
   "toc_cell": false,
   "toc_position": {
    "height": "calc(100% - 180px)",
    "left": "10px",
    "top": "150px",
    "width": "258.594px"
   },
   "toc_section_display": true,
   "toc_window_display": true
  },
  "varInspector": {
   "cols": {
    "lenName": 16,
    "lenType": 16,
    "lenVar": 40
   },
   "kernels_config": {
    "python": {
     "delete_cmd_postfix": "",
     "delete_cmd_prefix": "del ",
     "library": "var_list.py",
     "varRefreshCmd": "print(var_dic_list())"
    },
    "r": {
     "delete_cmd_postfix": ") ",
     "delete_cmd_prefix": "rm(",
     "library": "var_list.r",
     "varRefreshCmd": "cat(var_dic_list()) "
    }
   },
   "types_to_exclude": [
    "module",
    "function",
    "builtin_function_or_method",
    "instance",
    "_Feature"
   ],
   "window_display": false
  }
 },
 "nbformat": 4,
 "nbformat_minor": 5
}
