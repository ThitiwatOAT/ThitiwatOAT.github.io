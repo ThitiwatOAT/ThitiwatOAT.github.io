{
 "cells": [
  {
   "cell_type": "markdown",
   "id": "82c5259c",
   "metadata": {},
   "source": [
    "# Code"
   ]
  },
  {
   "cell_type": "code",
   "execution_count": 9,
   "id": "c2335244",
   "metadata": {},
   "outputs": [],
   "source": [
    "def Merge(aArr, bArr):\n",
    "    \n",
    "    a = 0\n",
    "    b = 0\n",
    "    cArr = []\n",
    "\n",
    "    while a < len(aArr) and b < len(bArr):\n",
    "        if aArr[a] < bArr[b]:\n",
    "            cArr.append(aArr[a])\n",
    "            a = a + 1\n",
    "        elif aArr[a] > bArr[b]:\n",
    "            cArr.append(bArr[b])\n",
    "            b = b + 1\n",
    "        else:\n",
    "            cArr.append(aArr[a])\n",
    "            cArr.append(bArr[b])\n",
    "            a = a + 1\n",
    "            b = b + 1\n",
    "\n",
    "    while a < len(aArr):\n",
    "        cArr.append(aArr[a])\n",
    "        a = a + 1\n",
    "\n",
    "    while b < len(bArr):\n",
    "        cArr.append(bArr[b])\n",
    "        b = b + 1\n",
    "\n",
    "    return cArr"
   ]
  },
  {
   "cell_type": "code",
   "execution_count": 10,
   "id": "b704da2e",
   "metadata": {},
   "outputs": [],
   "source": [
    "def MergeWExp(aArr, bArr):\n",
    "    # a b are index for both array\n",
    "    a = 0\n",
    "    b = 0\n",
    "    cArr = []\n",
    "\n",
    "    while a < len(aArr) and b < len(bArr):\n",
    "        print(a,b,'| bound =',len(aArr),len(bArr))\n",
    "        print(aArr[a],bArr[b])\n",
    "        if aArr[a] < bArr[b]:\n",
    "            print(aArr[a] ,'<', bArr[b],\"append left elt\")\n",
    "            cArr.append(aArr[a])\n",
    "            print(cArr)\n",
    "\n",
    "            a = a + 1\n",
    "\n",
    "        elif aArr[a] > bArr[b]:\n",
    "            print(aArr[a] ,'>', bArr[b],\"append right elt\")\n",
    "            cArr.append(bArr[b])\n",
    "            print(cArr)\n",
    "\n",
    "            b = b + 1\n",
    "\n",
    "        else:\n",
    "            print(aArr[a] ,'=', bArr[b],\"append both elt\")\n",
    "            cArr.append(aArr[a])\n",
    "            cArr.append(bArr[b])\n",
    "            print(cArr)\n",
    "\n",
    "            a = a + 1\n",
    "            b = b + 1\n",
    "        print('______________________',a,b)\n",
    "\n",
    "\n",
    "    while a < len(aArr):\n",
    "        print(\"There is elt left in aArr. the elt is\",aArr[a],'append to cArr we get',cArr)\n",
    "        cArr.append(aArr[a])\n",
    "        print('after ',cArr,'\\n')\n",
    "\n",
    "        a = a + 1\n",
    "\n",
    "    while b < len(bArr):\n",
    "        print(\"There is elt left in bArr. the elt is\",bArr[b],'\\nbefore',cArr)\n",
    "        cArr.append(bArr[b])\n",
    "        print('after ',cArr,'\\n')\n",
    "\n",
    "        b = b + 1"
   ]
  },
  {
   "cell_type": "markdown",
   "id": "5b9faa0f",
   "metadata": {},
   "source": [
    "# EX"
   ]
  },
  {
   "cell_type": "code",
   "execution_count": 11,
   "id": "2de607d8",
   "metadata": {},
   "outputs": [
    {
     "data": {
      "text/plain": [
       "([1, 2, 4, 5, 7, 8],\n",
       " [1, 2, 3, 4, 5, 6, 7, 8, 9],\n",
       " [1, 2, 3, 4, 5, 6, 7, 8, 9, 10, 13, 16])"
      ]
     },
     "execution_count": 11,
     "metadata": {},
     "output_type": "execute_result"
    }
   ],
   "source": [
    "aArr=[1,4,7]\n",
    "bArr=[2,5,8]\n",
    "cArr=[3,6,9]\n",
    "dArr=[10,13,16]\n",
    "\n",
    "Merge(aArr,bArr), Merge(Merge(aArr,bArr),cArr), Merge(Merge(Merge(aArr,bArr),cArr),dArr)"
   ]
  },
  {
   "cell_type": "markdown",
   "id": "ed37dca4",
   "metadata": {},
   "source": [
    "## Exmaple sorted input"
   ]
  },
  {
   "cell_type": "code",
   "execution_count": 12,
   "id": "d013993c",
   "metadata": {
    "scrolled": false
   },
   "outputs": [
    {
     "name": "stdout",
     "output_type": "stream",
     "text": [
      "0 0 | bound = 3 4\n",
      "1 2\n",
      "1 < 2 append left elt\n",
      "[1]\n",
      "______________________ 1 0\n",
      "1 0 | bound = 3 4\n",
      "4 2\n",
      "4 > 2 append right elt\n",
      "[1, 2]\n",
      "______________________ 1 1\n",
      "1 1 | bound = 3 4\n",
      "4 5\n",
      "4 < 5 append left elt\n",
      "[1, 2, 4]\n",
      "______________________ 2 1\n",
      "2 1 | bound = 3 4\n",
      "7 5\n",
      "7 > 5 append right elt\n",
      "[1, 2, 4, 5]\n",
      "______________________ 2 2\n",
      "2 2 | bound = 3 4\n",
      "7 8\n",
      "7 < 8 append left elt\n",
      "[1, 2, 4, 5, 7]\n",
      "______________________ 3 2\n",
      "There is elt left in bArr. the elt is 8 \n",
      "before [1, 2, 4, 5, 7]\n",
      "after  [1, 2, 4, 5, 7, 8] \n",
      "\n",
      "There is elt left in bArr. the elt is 10 \n",
      "before [1, 2, 4, 5, 7, 8]\n",
      "after  [1, 2, 4, 5, 7, 8, 10] \n",
      "\n"
     ]
    }
   ],
   "source": [
    "aArr=[1,4,7]\n",
    "bArr=[2,5,8,10]\n",
    "MergeWExp(aArr,bArr)"
   ]
  },
  {
   "cell_type": "markdown",
   "id": "b2ed936a",
   "metadata": {},
   "source": [
    "## Exmaple unsorted input"
   ]
  },
  {
   "cell_type": "code",
   "execution_count": 14,
   "id": "05c71952",
   "metadata": {},
   "outputs": [
    {
     "name": "stdout",
     "output_type": "stream",
     "text": [
      "0 0 | bound = 3 5\n",
      "1 2\n",
      "1 < 2 append left elt\n",
      "[1]\n",
      "______________________ 1 0\n",
      "1 0 | bound = 3 5\n",
      "4 2\n",
      "4 > 2 append right elt\n",
      "[1, 2]\n",
      "______________________ 1 1\n",
      "1 1 | bound = 3 5\n",
      "4 5\n",
      "4 < 5 append left elt\n",
      "[1, 2, 4]\n",
      "______________________ 2 1\n",
      "2 1 | bound = 3 5\n",
      "7 5\n",
      "7 > 5 append right elt\n",
      "[1, 2, 4, 5]\n",
      "______________________ 2 2\n",
      "2 2 | bound = 3 5\n",
      "7 8\n",
      "7 < 8 append left elt\n",
      "[1, 2, 4, 5, 7]\n",
      "______________________ 3 2\n",
      "There is elt left in bArr. the elt is 8 \n",
      "before [1, 2, 4, 5, 7]\n",
      "after  [1, 2, 4, 5, 7, 8] \n",
      "\n",
      "There is elt left in bArr. the elt is 10 \n",
      "before [1, 2, 4, 5, 7, 8]\n",
      "after  [1, 2, 4, 5, 7, 8, 10] \n",
      "\n",
      "There is elt left in bArr. the elt is -1 \n",
      "before [1, 2, 4, 5, 7, 8, 10]\n",
      "after  [1, 2, 4, 5, 7, 8, 10, -1] \n",
      "\n"
     ]
    }
   ],
   "source": [
    "aArr=[1,4,7]\n",
    "bArr=[2,5,8,10,-1]\n",
    "MergeWExp(aArr,bArr)"
   ]
  }
 ],
 "metadata": {
  "kernelspec": {
   "display_name": "Python 3 (ipykernel)",
   "language": "python",
   "name": "python3"
  },
  "language_info": {
   "codemirror_mode": {
    "name": "ipython",
    "version": 3
   },
   "file_extension": ".py",
   "mimetype": "text/x-python",
   "name": "python",
   "nbconvert_exporter": "python",
   "pygments_lexer": "ipython3",
   "version": "3.9.7"
  },
  "toc": {
   "base_numbering": 1,
   "nav_menu": {},
   "number_sections": true,
   "sideBar": true,
   "skip_h1_title": false,
   "title_cell": "Table of Contents",
   "title_sidebar": "Contents",
   "toc_cell": false,
   "toc_position": {},
   "toc_section_display": true,
   "toc_window_display": false
  },
  "varInspector": {
   "cols": {
    "lenName": 16,
    "lenType": 16,
    "lenVar": 40
   },
   "kernels_config": {
    "python": {
     "delete_cmd_postfix": "",
     "delete_cmd_prefix": "del ",
     "library": "var_list.py",
     "varRefreshCmd": "print(var_dic_list())"
    },
    "r": {
     "delete_cmd_postfix": ") ",
     "delete_cmd_prefix": "rm(",
     "library": "var_list.r",
     "varRefreshCmd": "cat(var_dic_list()) "
    }
   },
   "types_to_exclude": [
    "module",
    "function",
    "builtin_function_or_method",
    "instance",
    "_Feature"
   ],
   "window_display": false
  }
 },
 "nbformat": 4,
 "nbformat_minor": 5
}
